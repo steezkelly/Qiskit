{
  "cells": [
    {
      "cell_type": "code",
      "execution_count": 1,
      "metadata": {
        "trusted": true
      },
      "outputs": [
        {
          "name": "stderr",
          "output_type": "stream",
          "text": "/opt/conda/lib/python3.7/site-packages/qiskit/providers/ibmq/ibmqfactory.py:192: UserWarning: Timestamps in IBMQ backend properties, jobs, and job results are all now in local time instead of UTC.\n  warnings.warn('Timestamps in IBMQ backend properties, jobs, and job results '\n"
        }
      ],
      "source": "%matplotlib inline\n# Importing standard Qiskit libraries and configuring account\nfrom qiskit import QuantumCircuit, execute, Aer, IBMQ\nfrom qiskit.compiler import transpile, assemble\nfrom qiskit.tools.jupyter import *\nfrom qiskit.visualization import *\n# Loading your IBM Q account(s)\nprovider = IBMQ.load_account()"
    },
    {
      "cell_type": "markdown",
      "metadata": {},
      "source": "Taken from \n\"Grovers Algorithm — Programming on Quantum Computers — Coding with Qiskit S2E3\" Located at https://www.youtube.com/watch?v=0RPFWZj7Jm0 by Qiskit YouTube channel"
    },
    {
      "cell_type": "code",
      "execution_count": 2,
      "metadata": {
        "trusted": true
      },
      "outputs": [],
      "source": "my_list = [1,3,5,2,4,9,5,8,0,7,6]"
    },
    {
      "cell_type": "code",
      "execution_count": 3,
      "metadata": {
        "trusted": true
      },
      "outputs": [],
      "source": "def the_oracle(my_input):\n    winner=7\n    if my_input is winner:\n        response = True\n    else:\n        response = False\n    return response"
    },
    {
      "cell_type": "code",
      "execution_count": 4,
      "metadata": {
        "trusted": true
      },
      "outputs": [
        {
          "name": "stdout",
          "output_type": "stream",
          "text": "Winner found at index 9\n10 calls to the Oracle used\n"
        }
      ],
      "source": "for index, trial_number in enumerate(my_list):\n    if the_oracle(trial_number) is True:\n        print(\"Winner found at index %i\"%index)\n        print(\"%i calls to the Oracle used\"%(index+1))\n        break"
    },
    {
      "cell_type": "markdown",
      "metadata": {},
      "source": "Order scales at the order O(N) in classical computing for Grover's Algorithm\nOrder scales at the order O(sqrt(N)) in quantum computing for G.A."
    },
    {
      "cell_type": "markdown",
      "metadata": {},
      "source": "Controlled-Z Gate |11> -> -|11> flips the sign of 11 state, Unitary Matrix\nAmplitude Amplification: Reflection Operator (Grover's Diffusion Operator)\n\nGrover's Iterate: [Oracle] + [Reflection]"
    },
    {
      "cell_type": "code",
      "execution_count": 6,
      "metadata": {
        "trusted": true
      },
      "outputs": [],
      "source": "from qiskit import*\nimport matplotlib.pyplot as plt\nimport numpy as np"
    },
    {
      "cell_type": "code",
      "execution_count": 7,
      "metadata": {
        "trusted": true
      },
      "outputs": [
        {
          "data": {
            "image/png": "[encoded data removed]",
            "text/plain": "<Figure size 146.652x144.48 with 1 Axes>"
          },
          "execution_count": 7,
          "metadata": {},
          "output_type": "execute_result"
        }
      ],
      "source": "#define the oracle circuit\noracle = QuantumCircuit(2,name='oracle')\noracle.cz(0,1)\noracle.to_gate()\noracle.draw()"
    },
    {
      "cell_type": "code",
      "execution_count": 9,
      "metadata": {
        "trusted": true
      },
      "outputs": [
        {
          "data": {
            "image/png": "[encoded data removed]",
            "text/plain": "<Figure size 267.052x204.68 with 1 Axes>"
          },
          "execution_count": 9,
          "metadata": {},
          "output_type": "execute_result"
        }
      ],
      "source": "backend = Aer.get_backend('statevector_simulator')\ngrover_circ = QuantumCircuit(2,2)\ngrover_circ.h([0,1])\ngrover_circ.append(oracle,[0,1])\ngrover_circ.draw()"
    },
    {
      "cell_type": "code",
      "execution_count": 11,
      "metadata": {
        "trusted": true
      },
      "outputs": [],
      "source": "job = execute(grover_circ,backend)\nresult = job.result()"
    },
    {
      "cell_type": "code",
      "execution_count": 12,
      "metadata": {
        "trusted": true
      },
      "outputs": [
        {
          "data": {
            "text/plain": "array([ 0.5+0.j,  0.5+0.j,  0.5+0.j, -0.5+0.j])"
          },
          "execution_count": 12,
          "metadata": {},
          "output_type": "execute_result"
        }
      ],
      "source": "sv = result.get_statevector()\nnp.around(sv,2)"
    },
    {
      "cell_type": "markdown",
      "metadata": {},
      "source": "Next step: P(x) = <x|c* c|x> = |c|^2 \nHave to multiply each element of the statevector by its Hermitian conjugate in order to get back the probability of its basis state."
    },
    {
      "cell_type": "markdown",
      "metadata": {},
      "source": "|11> =|w> = [0\n             0\n             0\n             1]\n      |s> = [1\n             1\n             1\n             1] * 1/2 (normalized by 1/2)\n      |s'> = [1\n              1\n              1\n              0] * 1/sqrt(3) (normalized)\n      \n      |s> -> {Oracle} -> [1\n                          1\n                          1\n                          -1] *1/2\n      |s><s|-1\n      \n Combining these operators brings us closer to winning operator W, the winning vector."
    },
    {
      "cell_type": "code",
      "execution_count": 13,
      "metadata": {
        "trusted": true
      },
      "outputs": [
        {
          "data": {
            "text/plain": "<qiskit.circuit.gate.Gate at 0x7f197df42550>"
          },
          "execution_count": 13,
          "metadata": {},
          "output_type": "execute_result"
        }
      ],
      "source": "reflection = QuantumCircuit(2,name='reflection')\nreflection.h([0,1])\nreflection.z([0,1])\nreflection.cz(0,1)\nreflection.h([0,1])\nreflection.to_gate()"
    },
    {
      "cell_type": "code",
      "execution_count": 14,
      "metadata": {
        "trusted": true
      },
      "outputs": [
        {
          "data": {
            "image/png": "[encoded data removed]",
            "text/plain": "<Figure size 327.252x144.48 with 1 Axes>"
          },
          "execution_count": 14,
          "metadata": {},
          "output_type": "execute_result"
        }
      ],
      "source": "reflection.draw()"
    },
    {
      "cell_type": "code",
      "execution_count": 15,
      "metadata": {
        "trusted": true
      },
      "outputs": [
        {
          "data": {
            "text/plain": "<qiskit.circuit.instructionset.InstructionSet at 0x7f197e27ca50>"
          },
          "execution_count": 15,
          "metadata": {},
          "output_type": "execute_result"
        }
      ],
      "source": "backend = Aer.get_backend('qasm_simulator')\ngrover_circ = QuantumCircuit(2,2)\ngrover_circ.h([0,1])\ngrover_circ.append(oracle,[0,1])\ngrover_circ.append(reflection,[0,1])\ngrover_circ.measure([0,1], [0,1])"
    },
    {
      "cell_type": "code",
      "execution_count": 16,
      "metadata": {
        "trusted": true
      },
      "outputs": [
        {
          "data": {
            "image/png": "[encoded data removed]",
            "text/plain": "<Figure size 507.852x204.68 with 1 Axes>"
          },
          "execution_count": 16,
          "metadata": {},
          "output_type": "execute_result"
        }
      ],
      "source": "grover_circ.draw()"
    },
    {
      "cell_type": "code",
      "execution_count": 17,
      "metadata": {
        "trusted": true
      },
      "outputs": [
        {
          "data": {
            "text/plain": "{'11': 1}"
          },
          "execution_count": 17,
          "metadata": {},
          "output_type": "execute_result"
        }
      ],
      "source": "job=execute(grover_circ,backend,shots=1)\nresult=job.result()\nresult.get_counts()"
    },
    {
      "cell_type": "code",
      "execution_count": null,
      "metadata": {
        "trusted": true
      },
      "outputs": [],
      "source": ""
    }
  ],
  "metadata": {
    "kernelspec": {
      "display_name": "Python 3",
      "language": "python",
      "name": "python3"
    },
    "language_info": {
      "codemirror_mode": {
        "name": "ipython",
        "version": 3
      },
      "file_extension": ".py",
      "mimetype": "text/x-python",
      "name": "python",
      "nbconvert_exporter": "python",
      "pygments_lexer": "ipython3",
      "version": "3.7.8"
    }
  },
  "nbformat": 4,
  "nbformat_minor": 4
}